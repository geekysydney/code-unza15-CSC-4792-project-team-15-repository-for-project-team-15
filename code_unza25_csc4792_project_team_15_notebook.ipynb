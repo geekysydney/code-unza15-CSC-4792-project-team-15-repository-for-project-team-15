{
  "nbformat": 4,
  "nbformat_minor": 0,
  "metadata": {
    "colab": {
      "provenance": [],
      "authorship_tag": "ABX9TyOQI6IPVVzuZDrCEpKLiA1Q",
      "include_colab_link": true
    },
    "kernelspec": {
      "name": "python3",
      "display_name": "Python 3"
    },
    "language_info": {
      "name": "python"
    }
  },
  "cells": [
    {
      "cell_type": "markdown",
      "metadata": {
        "id": "view-in-github",
        "colab_type": "text"
      },
      "source": [
        "<a href=\"https://colab.research.google.com/github/geekysydney/code-unza15-CSC-4792-project-team-15-repository-for-project-team-15/blob/main/code_unza25_csc4792_project_team_15_notebook.ipynb\" target=\"_parent\"><img src=\"https://colab.research.google.com/assets/colab-badge.svg\" alt=\"Open In Colab\"/></a>"
      ]
    },
    {
      "cell_type": "markdown",
      "source": [
        "#1. Business Understanding\n",
        "\n"
      ],
      "metadata": {
        "id": "nKmCIsFMPkvV"
      }
    },
    {
      "cell_type": "code",
      "source": [],
      "metadata": {
        "id": "P7IERWdDP2EI"
      },
      "execution_count": null,
      "outputs": []
    }
  ]
}
