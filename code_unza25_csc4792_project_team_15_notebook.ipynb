{
  "nbformat": 4,
  "nbformat_minor": 0,
  "metadata": {
    "colab": {
      "provenance": [],
      "toc_visible": true,
      "include_colab_link": true
    },
    "kernelspec": {
      "name": "python3",
      "display_name": "Python 3"
    },
    "language_info": {
      "name": "python"
    }
  },
  "cells": [
    {
      "cell_type": "markdown",
      "metadata": {
        "id": "view-in-github",
        "colab_type": "text"
      },
      "source": [
        "<a href=\"https://colab.research.google.com/github/geekysydney/code-unza15-CSC-4792-project-team-15-repository-for-project-team-15/blob/main/code_unza25_csc4792_project_team_15_notebook.ipynb\" target=\"_parent\"><img src=\"https://colab.research.google.com/assets/colab-badge.svg\" alt=\"Open In Colab\"/></a>"
      ]
    },
    {
      "cell_type": "markdown",
      "source": [
        "<center>\n",
        "\n",
        "  <font size=6><b>CSC 4792: Data Mining and Warehousing</b></font><br />\n",
        "  <font size=5><b>Jupyter Notebook for the Journal of Law and Social Sciences article classifier model</b></font>\n",
        "\n",
        "  \n",
        "  Project Team #15 Members:</br> 1. Sydney Mulando</br> 2. Mambwe Chilebela</br> 3. Harrison Mwewa</br> 4. Goodson Mumbelunga</br> 5. Apollos Mwaba. </br>\n",
        "  \n",
        "\n",
        "</center>"
      ],
      "metadata": {
        "id": "7oqkcxbFQQku"
      }
    },
    {
      "cell_type": "markdown",
      "source": [
        "#1.Business Understanding\n",
        "##1.1 Introduction\n",
        "The Journal of Law and Social Sciences publishes articles spanning multiple disciplines of both law and social sciences. Some of the Law disciplines include Civic Law, Criminal Law, Constitutional Law, Sociology of Law, Public Policy, Criminology, Legal Theory, and many others. While the other disciplines in Social Studies include Political Science, Economics, Sociology, Gender Studies, Cultural Studies, and also many others. Categorization of journals into their specific discipline is currently manual and inconsistent, which makes see search, browsing, and content recommendation inefficient. This project will develop an automatic text classification system (model) that predicts an article’s discipline from its title and abstract, improving discoverability and reducing editorial effort.\n",
        "\n",
        "##1.2 Business Objectives\n",
        "Primary objectives:\n",
        "\n",
        "Automate classification of journal articles into discipline categories to speed up editorial workflows and enhance content discovery.\n",
        "\n",
        "Success at this stage means producing a prototype that demonstrates that article titles and abstracts can be used to predict the correct discipline with a level of accuracy 75%, but may be improved after further iterations. The exact performance threshold  will be confirmed once more requirements are clarified.\n",
        "\n",
        "##1.3 Data Mining Goals\n",
        "Build an initial supervised classification model that can assign one of the predefined disciplines to a given journal article, using only its title and abstract as input features.\n",
        "\n",
        "Document and evaluate preprocessing and modeling choices to ensure results are reproducible and explainable.\n",
        "\n",
        "These goals may be adjusted once the available data is fully understood.\n",
        "\n",
        "## 1.4 Initial Success Criteria\n",
        "Given that this is an early-stage CRISP-DM Business Understanding phase:\n",
        "\n",
        "Initial Iteration: The model should demonstrate and show clear potential for improvement. As an initial target, an accuracy of ≥ 70%  would indicate feasibility.\n",
        "\n",
        "Long-term Success: Once project requirements are fully defined, the target metrics will be refined to match editorial expectations e.g 85% accuracy\n",
        "\n",
        "Success will also be measured by stakeholder feedback on the interpretability of the results and the usefulness of the proposed classification output.\n",
        "\n",
        "\n",
        "## 1.5 Assumptions and Risks\n",
        "\n",
        "We assume access to a fully labeled dataset of articles (titles, abstracts, and discipline labels).\n",
        "\n",
        "The exact number of examples per class and the overall class distribution are unknown and could affect model choice.\n",
        "\n",
        "Labels may be highly subjective, potentially leading to some overlap between disciplines.\n",
        "\n",
        "Limited available labeled data could require extensive manual labeling to expand the dataset before modeling.\n",
        "\n",
        "## 1.6 Next Steps\n",
        "\n",
        "1. Confirm scope and requirements with team members </br>\n",
        "2. Assess data availability </br>\n",
        "3. confirm the size </br>\n",
        "4. quality </br>\n",
        "5. completeness of the dataset.</br>\n",
        "6. Proceed to Data Understanding phase (perform exploratory data analysis to examine class balance, text length, and potential preprocessing needs.)"
      ],
      "metadata": {
        "id": "lkgexVL2Ma7M"
      }
    },
    {
      "cell_type": "code",
      "execution_count": null,
      "metadata": {
        "colab": {
          "base_uri": "https://localhost:8080/"
        },
        "id": "WP4p-7O6HWCs",
        "outputId": "99c7e51e-96b6-4a92-c55c-6a9f1c7051e7"
      },
      "outputs": [
        {
          "output_type": "stream",
          "name": "stdout",
          "text": [
            "fatal: destination path 'code-unza15-CSC-4792-project-team-15-repository-for-project-team-15' already exists and is not an empty directory.\n"
          ]
        }
      ],
      "source": [
        "!Here is a link to our repository https://github.com/geekysydney/code-unza15-CSC-4792-project-team-15-repository-for-project-team-15.git\n",
        "\n"
      ]
    },
    {
      "cell_type": "markdown",
      "source": [],
      "metadata": {
        "id": "C5ha2KiMMqO5"
      }
    },
    {
      "cell_type": "markdown",
      "source": [
        "#2. Data Understanding\n"
      ],
      "metadata": {
        "id": "RLAR9hae4R8z"
      }
    },
    {
      "cell_type": "markdown",
      "source": [
        "##2.1 Data Collection\n",
        "\n",
        "The dataset will be sourced from the Journal of Law and Social Sciences (JLSS) hosted on the University of Zambia's journal platform.\n",
        "We will manually or programmatically extract the following fields for each article:\n",
        "\n",
        "Title – short summary of the research.\n",
        "\n",
        "Abstract – extended summary providing context, methodology, and findings.\n",
        "\n",
        "Discipline – the category/field assigned to the article (target variable).\n",
        "\n",
        "Expected Disciplines (examples, may vary depending on actual data):\n",
        "\n",
        "Law\n",
        "\n",
        "Political Science\n",
        "\n",
        "Sociology\n",
        "\n",
        "Economics\n",
        "\n",
        "Development Studies\n",
        "\n",
        "International Relations\n",
        "\n",
        "##2.2 Data Entry\n",
        "Using the csv file in the shared google drive folder, we will load the raw dataset into a Pandas DataFrame.</br>\n",
        "We first begin with the import statements for the python libraries and mount the drive to the notebook. </br>\n",
        "\n",
        "###Imports and mounting:"
      ],
      "metadata": {
        "id": "va6Rq8iCXZdw"
      }
    },
    {
      "cell_type": "code",
      "source": [
        "import pandas as pd\n",
        "import matplotlib.pyplot as plt\n",
        "from google.colab import drive\n",
        "drive.mount('/content/drive')\n",
        "\n",
        "#Pull all folders in the drive\n",
        "!pip install gdown\n",
        "import gdown\n",
        "\n",
        "gdown.download_folder(\"https://drive.google.com/drive/folders/1B9Bxg58zs_RWGJ-0QR5-EpGyg6NTVD50?usp=drive_link\", quiet=False, use_cookies=False)\n"
      ],
      "metadata": {
        "colab": {
          "base_uri": "https://localhost:8080/"
        },
        "id": "LuuMYhS-ROdL",
        "outputId": "08c9dfeb-b6d9-4b0a-a9c7-c67a9466d513"
      },
      "execution_count": 39,
      "outputs": [
        {
          "output_type": "stream",
          "name": "stdout",
          "text": [
            "Drive already mounted at /content/drive; to attempt to forcibly remount, call drive.mount(\"/content/drive\", force_remount=True).\n",
            "Requirement already satisfied: gdown in /usr/local/lib/python3.11/dist-packages (5.2.0)\n",
            "Requirement already satisfied: beautifulsoup4 in /usr/local/lib/python3.11/dist-packages (from gdown) (4.13.4)\n",
            "Requirement already satisfied: filelock in /usr/local/lib/python3.11/dist-packages (from gdown) (3.18.0)\n",
            "Requirement already satisfied: requests[socks] in /usr/local/lib/python3.11/dist-packages (from gdown) (2.32.3)\n",
            "Requirement already satisfied: tqdm in /usr/local/lib/python3.11/dist-packages (from gdown) (4.67.1)\n",
            "Requirement already satisfied: soupsieve>1.2 in /usr/local/lib/python3.11/dist-packages (from beautifulsoup4->gdown) (2.7)\n",
            "Requirement already satisfied: typing-extensions>=4.0.0 in /usr/local/lib/python3.11/dist-packages (from beautifulsoup4->gdown) (4.14.1)\n",
            "Requirement already satisfied: charset-normalizer<4,>=2 in /usr/local/lib/python3.11/dist-packages (from requests[socks]->gdown) (3.4.3)\n",
            "Requirement already satisfied: idna<4,>=2.5 in /usr/local/lib/python3.11/dist-packages (from requests[socks]->gdown) (3.10)\n",
            "Requirement already satisfied: urllib3<3,>=1.21.1 in /usr/local/lib/python3.11/dist-packages (from requests[socks]->gdown) (2.5.0)\n",
            "Requirement already satisfied: certifi>=2017.4.17 in /usr/local/lib/python3.11/dist-packages (from requests[socks]->gdown) (2025.8.3)\n",
            "Requirement already satisfied: PySocks!=1.5.7,>=1.5.6 in /usr/local/lib/python3.11/dist-packages (from requests[socks]->gdown) (1.7.1)\n"
          ]
        },
        {
          "output_type": "stream",
          "name": "stderr",
          "text": [
            "Retrieving folder contents\n"
          ]
        },
        {
          "output_type": "stream",
          "name": "stdout",
          "text": [
            "Processing file 1buSf5TT9KbDICSrGmvXsFq_adKhiQZFj code-unza25-csc4792- project_team_15-notebook.ipynb\n",
            "Processing file 1M_96p_CcoGqnp4dz8Sl4Rllwi3unfoU3 jlss_titles_and_abstracts.csv\n"
          ]
        },
        {
          "output_type": "stream",
          "name": "stderr",
          "text": [
            "Retrieving folder contents completed\n",
            "Building directory structure\n",
            "Building directory structure completed\n",
            "Downloading...\n",
            "From: https://drive.google.com/uc?id=1buSf5TT9KbDICSrGmvXsFq_adKhiQZFj\n",
            "To: /content/misc-unza25-csc4792-project_team15/code-unza25-csc4792- project_team_15-notebook.ipynb\n",
            "100%|██████████| 80.0k/80.0k [00:00<00:00, 60.8MB/s]\n",
            "Downloading...\n",
            "From: https://drive.google.com/uc?id=1M_96p_CcoGqnp4dz8Sl4Rllwi3unfoU3\n",
            "To: /content/misc-unza25-csc4792-project_team15/jlss_titles_and_abstracts.csv\n",
            "100%|██████████| 137k/137k [00:00<00:00, 73.5MB/s]\n",
            "Download completed\n"
          ]
        },
        {
          "output_type": "execute_result",
          "data": {
            "text/plain": [
              "['/content/misc-unza25-csc4792-project_team15/code-unza25-csc4792- project_team_15-notebook.ipynb',\n",
              " '/content/misc-unza25-csc4792-project_team15/jlss_titles_and_abstracts.csv']"
            ]
          },
          "metadata": {},
          "execution_count": 39
        }
      ]
    },
    {
      "cell_type": "markdown",
      "source": [
        "###Loading Dataset(.csv file) into Pandas DataFrame:"
      ],
      "metadata": {
        "id": "cm_wr_f9gXfi"
      }
    },
    {
      "cell_type": "code",
      "source": [
        "#Define the file path\n",
        "var_jlss_titles_and_abstracts_path=\"/content/misc-unza25-csc4792-project_team15/jlss_titles_and_abstracts.csv\"\n",
        "\n",
        "#load the datasets into Dataframes\n",
        "var_jlss_titles_and_abstracts_df = pd.read_csv(var_jlss_titles_and_abstracts_path)"
      ],
      "metadata": {
        "id": "a02OA0WTbbo_"
      },
      "execution_count": 40,
      "outputs": []
    },
    {
      "cell_type": "markdown",
      "source": [
        "##2.3 Data Exploration\n",
        "Here, we are performing initial data exploration commands such as:"
      ],
      "metadata": {
        "id": "kGxhV2cTgjQZ"
      }
    },
    {
      "cell_type": "markdown",
      "source": [
        "### 1 .head() :"
      ],
      "metadata": {
        "id": "ZAI10fTvhB2y"
      }
    },
    {
      "cell_type": "code",
      "source": [
        "var_jlss_titles_and_abstracts_df.head()"
      ],
      "metadata": {
        "colab": {
          "base_uri": "https://localhost:8080/",
          "height": 483
        },
        "id": "7BEetehWcgLw",
        "outputId": "f3d15dff-a8c2-49e0-b5d8-80bccc48b202"
      },
      "execution_count": 41,
      "outputs": [
        {
          "output_type": "execute_result",
          "data": {
            "text/plain": [
              "                                               Title  \\\n",
              "0                          View of Editorial Comment   \n",
              "1  View of Some Novels are Novels While Others ar...   \n",
              "2  View of Contradictions of a Society in Transit...   \n",
              "3  View of Unravelling the Complexity of Cinyanja...   \n",
              "4  View of The Naming of Zambia's Waterfalls: A T...   \n",
              "\n",
              "                                         Article URL  \\\n",
              "0  https://journals.unza.zm/index.php/JLSS/articl...   \n",
              "1  https://journals.unza.zm/index.php/JLSS/articl...   \n",
              "2  https://journals.unza.zm/index.php/JLSS/articl...   \n",
              "3  https://journals.unza.zm/index.php/JLSS/articl...   \n",
              "4  https://journals.unza.zm/index.php/JLSS/articl...   \n",
              "\n",
              "                                             PDF URL  \\\n",
              "0  https://journals.unza.zm/index.php/JLSS/articl...   \n",
              "1  https://journals.unza.zm/index.php/JLSS/articl...   \n",
              "2  https://journals.unza.zm/index.php/JLSS/articl...   \n",
              "3  https://journals.unza.zm/index.php/JLSS/articl...   \n",
              "4  https://journals.unza.zm/index.php/JLSS/articl...   \n",
              "\n",
              "                                            Abstract  \n",
              "0                                 Abstract not found  \n",
              "1  ABSTRACT\\nThis article aims at investigating w...  \n",
              "2  ABSTRACT\\nThis article seeks to highlight the ...  \n",
              "3  ABSTRACT\\nCompound words are found in most lan...  \n",
              "4  ABSTRACT\\nIt has been claimed that the indigen...  "
            ],
            "text/html": [
              "\n",
              "  <div id=\"df-80faa9e7-4bb5-4edd-b910-fcda28273926\" class=\"colab-df-container\">\n",
              "    <div>\n",
              "<style scoped>\n",
              "    .dataframe tbody tr th:only-of-type {\n",
              "        vertical-align: middle;\n",
              "    }\n",
              "\n",
              "    .dataframe tbody tr th {\n",
              "        vertical-align: top;\n",
              "    }\n",
              "\n",
              "    .dataframe thead th {\n",
              "        text-align: right;\n",
              "    }\n",
              "</style>\n",
              "<table border=\"1\" class=\"dataframe\">\n",
              "  <thead>\n",
              "    <tr style=\"text-align: right;\">\n",
              "      <th></th>\n",
              "      <th>Title</th>\n",
              "      <th>Article URL</th>\n",
              "      <th>PDF URL</th>\n",
              "      <th>Abstract</th>\n",
              "    </tr>\n",
              "  </thead>\n",
              "  <tbody>\n",
              "    <tr>\n",
              "      <th>0</th>\n",
              "      <td>View of Editorial Comment</td>\n",
              "      <td>https://journals.unza.zm/index.php/JLSS/articl...</td>\n",
              "      <td>https://journals.unza.zm/index.php/JLSS/articl...</td>\n",
              "      <td>Abstract not found</td>\n",
              "    </tr>\n",
              "    <tr>\n",
              "      <th>1</th>\n",
              "      <td>View of Some Novels are Novels While Others ar...</td>\n",
              "      <td>https://journals.unza.zm/index.php/JLSS/articl...</td>\n",
              "      <td>https://journals.unza.zm/index.php/JLSS/articl...</td>\n",
              "      <td>ABSTRACT\\nThis article aims at investigating w...</td>\n",
              "    </tr>\n",
              "    <tr>\n",
              "      <th>2</th>\n",
              "      <td>View of Contradictions of a Society in Transit...</td>\n",
              "      <td>https://journals.unza.zm/index.php/JLSS/articl...</td>\n",
              "      <td>https://journals.unza.zm/index.php/JLSS/articl...</td>\n",
              "      <td>ABSTRACT\\nThis article seeks to highlight the ...</td>\n",
              "    </tr>\n",
              "    <tr>\n",
              "      <th>3</th>\n",
              "      <td>View of Unravelling the Complexity of Cinyanja...</td>\n",
              "      <td>https://journals.unza.zm/index.php/JLSS/articl...</td>\n",
              "      <td>https://journals.unza.zm/index.php/JLSS/articl...</td>\n",
              "      <td>ABSTRACT\\nCompound words are found in most lan...</td>\n",
              "    </tr>\n",
              "    <tr>\n",
              "      <th>4</th>\n",
              "      <td>View of The Naming of Zambia's Waterfalls: A T...</td>\n",
              "      <td>https://journals.unza.zm/index.php/JLSS/articl...</td>\n",
              "      <td>https://journals.unza.zm/index.php/JLSS/articl...</td>\n",
              "      <td>ABSTRACT\\nIt has been claimed that the indigen...</td>\n",
              "    </tr>\n",
              "  </tbody>\n",
              "</table>\n",
              "</div>\n",
              "    <div class=\"colab-df-buttons\">\n",
              "\n",
              "  <div class=\"colab-df-container\">\n",
              "    <button class=\"colab-df-convert\" onclick=\"convertToInteractive('df-80faa9e7-4bb5-4edd-b910-fcda28273926')\"\n",
              "            title=\"Convert this dataframe to an interactive table.\"\n",
              "            style=\"display:none;\">\n",
              "\n",
              "  <svg xmlns=\"http://www.w3.org/2000/svg\" height=\"24px\" viewBox=\"0 -960 960 960\">\n",
              "    <path d=\"M120-120v-720h720v720H120Zm60-500h600v-160H180v160Zm220 220h160v-160H400v160Zm0 220h160v-160H400v160ZM180-400h160v-160H180v160Zm440 0h160v-160H620v160ZM180-180h160v-160H180v160Zm440 0h160v-160H620v160Z\"/>\n",
              "  </svg>\n",
              "    </button>\n",
              "\n",
              "  <style>\n",
              "    .colab-df-container {\n",
              "      display:flex;\n",
              "      gap: 12px;\n",
              "    }\n",
              "\n",
              "    .colab-df-convert {\n",
              "      background-color: #E8F0FE;\n",
              "      border: none;\n",
              "      border-radius: 50%;\n",
              "      cursor: pointer;\n",
              "      display: none;\n",
              "      fill: #1967D2;\n",
              "      height: 32px;\n",
              "      padding: 0 0 0 0;\n",
              "      width: 32px;\n",
              "    }\n",
              "\n",
              "    .colab-df-convert:hover {\n",
              "      background-color: #E2EBFA;\n",
              "      box-shadow: 0px 1px 2px rgba(60, 64, 67, 0.3), 0px 1px 3px 1px rgba(60, 64, 67, 0.15);\n",
              "      fill: #174EA6;\n",
              "    }\n",
              "\n",
              "    .colab-df-buttons div {\n",
              "      margin-bottom: 4px;\n",
              "    }\n",
              "\n",
              "    [theme=dark] .colab-df-convert {\n",
              "      background-color: #3B4455;\n",
              "      fill: #D2E3FC;\n",
              "    }\n",
              "\n",
              "    [theme=dark] .colab-df-convert:hover {\n",
              "      background-color: #434B5C;\n",
              "      box-shadow: 0px 1px 3px 1px rgba(0, 0, 0, 0.15);\n",
              "      filter: drop-shadow(0px 1px 2px rgba(0, 0, 0, 0.3));\n",
              "      fill: #FFFFFF;\n",
              "    }\n",
              "  </style>\n",
              "\n",
              "    <script>\n",
              "      const buttonEl =\n",
              "        document.querySelector('#df-80faa9e7-4bb5-4edd-b910-fcda28273926 button.colab-df-convert');\n",
              "      buttonEl.style.display =\n",
              "        google.colab.kernel.accessAllowed ? 'block' : 'none';\n",
              "\n",
              "      async function convertToInteractive(key) {\n",
              "        const element = document.querySelector('#df-80faa9e7-4bb5-4edd-b910-fcda28273926');\n",
              "        const dataTable =\n",
              "          await google.colab.kernel.invokeFunction('convertToInteractive',\n",
              "                                                    [key], {});\n",
              "        if (!dataTable) return;\n",
              "\n",
              "        const docLinkHtml = 'Like what you see? Visit the ' +\n",
              "          '<a target=\"_blank\" href=https://colab.research.google.com/notebooks/data_table.ipynb>data table notebook</a>'\n",
              "          + ' to learn more about interactive tables.';\n",
              "        element.innerHTML = '';\n",
              "        dataTable['output_type'] = 'display_data';\n",
              "        await google.colab.output.renderOutput(dataTable, element);\n",
              "        const docLink = document.createElement('div');\n",
              "        docLink.innerHTML = docLinkHtml;\n",
              "        element.appendChild(docLink);\n",
              "      }\n",
              "    </script>\n",
              "  </div>\n",
              "\n",
              "\n",
              "    <div id=\"df-acf6b530-915a-4a2b-af06-0e6b4435986a\">\n",
              "      <button class=\"colab-df-quickchart\" onclick=\"quickchart('df-acf6b530-915a-4a2b-af06-0e6b4435986a')\"\n",
              "                title=\"Suggest charts\"\n",
              "                style=\"display:none;\">\n",
              "\n",
              "<svg xmlns=\"http://www.w3.org/2000/svg\" height=\"24px\"viewBox=\"0 0 24 24\"\n",
              "     width=\"24px\">\n",
              "    <g>\n",
              "        <path d=\"M19 3H5c-1.1 0-2 .9-2 2v14c0 1.1.9 2 2 2h14c1.1 0 2-.9 2-2V5c0-1.1-.9-2-2-2zM9 17H7v-7h2v7zm4 0h-2V7h2v10zm4 0h-2v-4h2v4z\"/>\n",
              "    </g>\n",
              "</svg>\n",
              "      </button>\n",
              "\n",
              "<style>\n",
              "  .colab-df-quickchart {\n",
              "      --bg-color: #E8F0FE;\n",
              "      --fill-color: #1967D2;\n",
              "      --hover-bg-color: #E2EBFA;\n",
              "      --hover-fill-color: #174EA6;\n",
              "      --disabled-fill-color: #AAA;\n",
              "      --disabled-bg-color: #DDD;\n",
              "  }\n",
              "\n",
              "  [theme=dark] .colab-df-quickchart {\n",
              "      --bg-color: #3B4455;\n",
              "      --fill-color: #D2E3FC;\n",
              "      --hover-bg-color: #434B5C;\n",
              "      --hover-fill-color: #FFFFFF;\n",
              "      --disabled-bg-color: #3B4455;\n",
              "      --disabled-fill-color: #666;\n",
              "  }\n",
              "\n",
              "  .colab-df-quickchart {\n",
              "    background-color: var(--bg-color);\n",
              "    border: none;\n",
              "    border-radius: 50%;\n",
              "    cursor: pointer;\n",
              "    display: none;\n",
              "    fill: var(--fill-color);\n",
              "    height: 32px;\n",
              "    padding: 0;\n",
              "    width: 32px;\n",
              "  }\n",
              "\n",
              "  .colab-df-quickchart:hover {\n",
              "    background-color: var(--hover-bg-color);\n",
              "    box-shadow: 0 1px 2px rgba(60, 64, 67, 0.3), 0 1px 3px 1px rgba(60, 64, 67, 0.15);\n",
              "    fill: var(--button-hover-fill-color);\n",
              "  }\n",
              "\n",
              "  .colab-df-quickchart-complete:disabled,\n",
              "  .colab-df-quickchart-complete:disabled:hover {\n",
              "    background-color: var(--disabled-bg-color);\n",
              "    fill: var(--disabled-fill-color);\n",
              "    box-shadow: none;\n",
              "  }\n",
              "\n",
              "  .colab-df-spinner {\n",
              "    border: 2px solid var(--fill-color);\n",
              "    border-color: transparent;\n",
              "    border-bottom-color: var(--fill-color);\n",
              "    animation:\n",
              "      spin 1s steps(1) infinite;\n",
              "  }\n",
              "\n",
              "  @keyframes spin {\n",
              "    0% {\n",
              "      border-color: transparent;\n",
              "      border-bottom-color: var(--fill-color);\n",
              "      border-left-color: var(--fill-color);\n",
              "    }\n",
              "    20% {\n",
              "      border-color: transparent;\n",
              "      border-left-color: var(--fill-color);\n",
              "      border-top-color: var(--fill-color);\n",
              "    }\n",
              "    30% {\n",
              "      border-color: transparent;\n",
              "      border-left-color: var(--fill-color);\n",
              "      border-top-color: var(--fill-color);\n",
              "      border-right-color: var(--fill-color);\n",
              "    }\n",
              "    40% {\n",
              "      border-color: transparent;\n",
              "      border-right-color: var(--fill-color);\n",
              "      border-top-color: var(--fill-color);\n",
              "    }\n",
              "    60% {\n",
              "      border-color: transparent;\n",
              "      border-right-color: var(--fill-color);\n",
              "    }\n",
              "    80% {\n",
              "      border-color: transparent;\n",
              "      border-right-color: var(--fill-color);\n",
              "      border-bottom-color: var(--fill-color);\n",
              "    }\n",
              "    90% {\n",
              "      border-color: transparent;\n",
              "      border-bottom-color: var(--fill-color);\n",
              "    }\n",
              "  }\n",
              "</style>\n",
              "\n",
              "      <script>\n",
              "        async function quickchart(key) {\n",
              "          const quickchartButtonEl =\n",
              "            document.querySelector('#' + key + ' button');\n",
              "          quickchartButtonEl.disabled = true;  // To prevent multiple clicks.\n",
              "          quickchartButtonEl.classList.add('colab-df-spinner');\n",
              "          try {\n",
              "            const charts = await google.colab.kernel.invokeFunction(\n",
              "                'suggestCharts', [key], {});\n",
              "          } catch (error) {\n",
              "            console.error('Error during call to suggestCharts:', error);\n",
              "          }\n",
              "          quickchartButtonEl.classList.remove('colab-df-spinner');\n",
              "          quickchartButtonEl.classList.add('colab-df-quickchart-complete');\n",
              "        }\n",
              "        (() => {\n",
              "          let quickchartButtonEl =\n",
              "            document.querySelector('#df-acf6b530-915a-4a2b-af06-0e6b4435986a button');\n",
              "          quickchartButtonEl.style.display =\n",
              "            google.colab.kernel.accessAllowed ? 'block' : 'none';\n",
              "        })();\n",
              "      </script>\n",
              "    </div>\n",
              "\n",
              "    </div>\n",
              "  </div>\n"
            ],
            "application/vnd.google.colaboratory.intrinsic+json": {
              "type": "dataframe",
              "variable_name": "var_jlss_titles_and_abstracts_df",
              "summary": "{\n  \"name\": \"var_jlss_titles_and_abstracts_df\",\n  \"rows\": 87,\n  \"fields\": [\n    {\n      \"column\": \"Title\",\n      \"properties\": {\n        \"dtype\": \"string\",\n        \"num_unique_values\": 86,\n        \"samples\": [\n          \"View of Women, Environment and the Emerging Transformation of Society\",\n          \"View of Editorial Comment\",\n          \"View of An Evaluation of the Effectiveness of Communication Strategies for Achieving Millennium Development Goals in Zambia\"\n        ],\n        \"semantic_type\": \"\",\n        \"description\": \"\"\n      }\n    },\n    {\n      \"column\": \"Article URL\",\n      \"properties\": {\n        \"dtype\": \"string\",\n        \"num_unique_values\": 87,\n        \"samples\": [\n          \"https://journals.unza.zm/index.php/JLSS/article/view/471/429\",\n          \"https://journals.unza.zm/index.php/JLSS/article/view/1295/922\",\n          \"https://journals.unza.zm/index.php/JLSS/article/view/1012/770\"\n        ],\n        \"semantic_type\": \"\",\n        \"description\": \"\"\n      }\n    },\n    {\n      \"column\": \"PDF URL\",\n      \"properties\": {\n        \"dtype\": \"string\",\n        \"num_unique_values\": 87,\n        \"samples\": [\n          \"https://journals.unza.zm/index.php/JLSS/article/download/471/429\",\n          \"https://journals.unza.zm/index.php/JLSS/article/download/1295/922\",\n          \"https://journals.unza.zm/index.php/JLSS/article/download/1012/770\"\n        ],\n        \"semantic_type\": \"\",\n        \"description\": \"\"\n      }\n    },\n    {\n      \"column\": \"Abstract\",\n      \"properties\": {\n        \"dtype\": \"string\",\n        \"num_unique_values\": 72,\n        \"samples\": [\n          \"ABSTRACT\\nIt has been claimed that the indigenous names of waterfalls were frequently \\nreplaced by European names. This critical toponymic claim is challenged in \\na test case investigating the names of Zambian waterfalls. The research was \\nundertaken in three parts. Firstly, a quantitative study showed that 97 per \\ncent of 150 named waterfalls have indigenous rather than colonial names.  \\nSecondly, the colonial practices and policies that ensured that Zambian \\nwaterfalls retained their indigenous names were traced through contemporary \\ndocuments. Lastly, the naming motives of ninety-nine waterfalls were \\nexamined through a toponymic typology to reveal how the indigenous names \\nreflect aspects of indigenous culture that are in danger of being marginalised \\nor lost. The results refute the critical hypothesis of toponymic silencing and \\nestablish an evidence-based narrative of a colonial policy that ensured that the \\nindigenous names of waterfalls were retained.  European names were adopted \\nonly if an indigenous name could not be identified.\",\n          \"ABSTRACT\\nThe rigorous hospital, police and legal procedures through which sexually abused \\nchildren go through can further increase the level of trauma if not done professionally. \\nIf these procedures are performed in a sensitive and knowledgeable manner this can \\nlead to an expedited healing process for the child who is sexually traumatised.  Trauma \\nis not just a health hazard but a condition that can impair full disclosure of required \\ndetails by a child who has been sexually abused.\\nIn Phase 1, four in-depth case studies of children who were sexually abused were \\ncarried out using the qualitative method of one to one oral interviews.  Phase II \\ninvolved an investigation into the relationship between societal interventions such \\nas court procedures and trauma levels in fifty sexually abused children.  The tool that \\nwas used to assess or to measure the level of trauma and determine the amount of \\nstress experienced by each child was the Trauma Symptoms Checklist for children. \\nThis instrument was developed by John Biere (1989).  The data obtained was analysed \\nusing descriptive analysis.\\nThe police officers, the social workers and health workers indicated that they \\nhad interviewed  50 per cent of the sexually abused children three times while the \\nremaining 10 per cent reported to have been interviewed more than three times.  It \\nwas further reported that each child had an average of three cross examinations in the \\ncourts of law.  The Trauma Symptoms Check List revealed that twenty five (50%) \\nof sexually abused children who had been separated from their primary care-givers \\nexhibited more stress and trauma than their counterparts.  It was also found that fifteen \\nof the sexually abused children who were taken to the juvenile courts of law exhibited \\nless stress and trauma than their colleagues who were taken to the regular adult courts. \\nIt was also observed that 75 per cent of the sexually abused children who indicated \\nthat they had trusting relationships with the professionals expressed being at ease with \\nthem.\\nThis study indicates that certain types of societal system interventions such \\nas multiple questioning, more than three interviews, child-mother or care-giver \\nseparation, inadequate trust during the investigation, court procedures and social \\nservice phases, further traumatised sexually abused children.\\nKey words: Trauma, Societal Interventions, Sexual Abuse Disclosure.\",\n          \"Abstract\\nThis study examines the roles and challenges of women in male dominated \\ninstitutions focusing on the case of Zambia Police from 1966 to 1995. Primary \\nand secondary sources were consulted. Primary sources used included oral \\ninterviews, consulting colonial and post-colonial government reports and \\nconference papers. The secondary sources include books, dissertations and \\njournals. The study argues that Zambia Police Service formerly known \\nas Northern Rhodesia Police was formed in 1932 and at inception it only \\ncomprised men with no intentions of considering the inclusion of female \\nPolice officers. In 1947, the Force started employing clerks and African \\ncivilians that included twelve women. The female clerks and wives of the \\nsenior police officers helped the Force to search, guard and escort female and \\njuvenile offenders to their convenience rooms. The study further reveals that \\nit was very important for the Force to consider the recruitment and training \\nof female police officers and equip them with police skills as a pilot project.  \\nEuropean women were first engaged and trained as police officers in 1955 and \\nthe African first females during 1958. The roles of these policewomen were \\nmainly confined to clerical and administrative work. In 1966, two years after \\nindependence, the Force started recruitment and training of policewomen on \\na permanent basis. Policewomen found it difficult to adapt to the work culture \\nof men towards them because they were discriminated against in many ways. \\nThe policewomen were faced with a number of challenges and barriers that \\nhindered their advancement in the police. The study concluded that from 1966 \\nto 1995, policewomen contributed to maintenance of law and order in the \\ncountry. Despite the challenges they faced they were able to gain recognition, \\nacceptance and promotion to higher ranks.\"\n        ],\n        \"semantic_type\": \"\",\n        \"description\": \"\"\n      }\n    }\n  ]\n}"
            }
          },
          "metadata": {},
          "execution_count": 41
        }
      ]
    },
    {
      "cell_type": "markdown",
      "source": [
        "### 2 .info() :"
      ],
      "metadata": {
        "id": "O1n1EspOhKvO"
      }
    },
    {
      "cell_type": "code",
      "source": [
        "var_jlss_titles_and_abstracts_df.info()"
      ],
      "metadata": {
        "colab": {
          "base_uri": "https://localhost:8080/"
        },
        "id": "5M8ZDo5YcmBF",
        "outputId": "827d275e-9fc1-406a-a5f6-515ad525f327"
      },
      "execution_count": 42,
      "outputs": [
        {
          "output_type": "stream",
          "name": "stdout",
          "text": [
            "<class 'pandas.core.frame.DataFrame'>\n",
            "RangeIndex: 87 entries, 0 to 86\n",
            "Data columns (total 4 columns):\n",
            " #   Column       Non-Null Count  Dtype \n",
            "---  ------       --------------  ----- \n",
            " 0   Title        87 non-null     object\n",
            " 1   Article URL  87 non-null     object\n",
            " 2   PDF URL      87 non-null     object\n",
            " 3   Abstract     87 non-null     object\n",
            "dtypes: object(4)\n",
            "memory usage: 2.8+ KB\n"
          ]
        }
      ]
    },
    {
      "cell_type": "markdown",
      "source": [
        "### 3 .describe() :"
      ],
      "metadata": {
        "id": "RBErF7M9hOgW"
      }
    },
    {
      "cell_type": "code",
      "source": [
        "var_jlss_titles_and_abstracts_df.describe()"
      ],
      "metadata": {
        "colab": {
          "base_uri": "https://localhost:8080/",
          "height": 192
        },
        "id": "Fd9cV-fHdClu",
        "outputId": "b5063551-154f-43ea-838d-57f1f754f3b5"
      },
      "execution_count": 43,
      "outputs": [
        {
          "output_type": "execute_result",
          "data": {
            "text/plain": [
              "                            Title  \\\n",
              "count                          87   \n",
              "unique                         86   \n",
              "top     View of Editorial Comment   \n",
              "freq                            2   \n",
              "\n",
              "                                              Article URL  \\\n",
              "count                                                  87   \n",
              "unique                                                 87   \n",
              "top     https://journals.unza.zm/index.php/JLSS/articl...   \n",
              "freq                                                    1   \n",
              "\n",
              "                                                  PDF URL            Abstract  \n",
              "count                                                  87                  87  \n",
              "unique                                                 87                  72  \n",
              "top     https://journals.unza.zm/index.php/JLSS/articl...  Abstract not found  \n",
              "freq                                                    1                  16  "
            ],
            "text/html": [
              "\n",
              "  <div id=\"df-1b3a126c-b5c0-415d-908b-08df377f61ef\" class=\"colab-df-container\">\n",
              "    <div>\n",
              "<style scoped>\n",
              "    .dataframe tbody tr th:only-of-type {\n",
              "        vertical-align: middle;\n",
              "    }\n",
              "\n",
              "    .dataframe tbody tr th {\n",
              "        vertical-align: top;\n",
              "    }\n",
              "\n",
              "    .dataframe thead th {\n",
              "        text-align: right;\n",
              "    }\n",
              "</style>\n",
              "<table border=\"1\" class=\"dataframe\">\n",
              "  <thead>\n",
              "    <tr style=\"text-align: right;\">\n",
              "      <th></th>\n",
              "      <th>Title</th>\n",
              "      <th>Article URL</th>\n",
              "      <th>PDF URL</th>\n",
              "      <th>Abstract</th>\n",
              "    </tr>\n",
              "  </thead>\n",
              "  <tbody>\n",
              "    <tr>\n",
              "      <th>count</th>\n",
              "      <td>87</td>\n",
              "      <td>87</td>\n",
              "      <td>87</td>\n",
              "      <td>87</td>\n",
              "    </tr>\n",
              "    <tr>\n",
              "      <th>unique</th>\n",
              "      <td>86</td>\n",
              "      <td>87</td>\n",
              "      <td>87</td>\n",
              "      <td>72</td>\n",
              "    </tr>\n",
              "    <tr>\n",
              "      <th>top</th>\n",
              "      <td>View of Editorial Comment</td>\n",
              "      <td>https://journals.unza.zm/index.php/JLSS/articl...</td>\n",
              "      <td>https://journals.unza.zm/index.php/JLSS/articl...</td>\n",
              "      <td>Abstract not found</td>\n",
              "    </tr>\n",
              "    <tr>\n",
              "      <th>freq</th>\n",
              "      <td>2</td>\n",
              "      <td>1</td>\n",
              "      <td>1</td>\n",
              "      <td>16</td>\n",
              "    </tr>\n",
              "  </tbody>\n",
              "</table>\n",
              "</div>\n",
              "    <div class=\"colab-df-buttons\">\n",
              "\n",
              "  <div class=\"colab-df-container\">\n",
              "    <button class=\"colab-df-convert\" onclick=\"convertToInteractive('df-1b3a126c-b5c0-415d-908b-08df377f61ef')\"\n",
              "            title=\"Convert this dataframe to an interactive table.\"\n",
              "            style=\"display:none;\">\n",
              "\n",
              "  <svg xmlns=\"http://www.w3.org/2000/svg\" height=\"24px\" viewBox=\"0 -960 960 960\">\n",
              "    <path d=\"M120-120v-720h720v720H120Zm60-500h600v-160H180v160Zm220 220h160v-160H400v160Zm0 220h160v-160H400v160ZM180-400h160v-160H180v160Zm440 0h160v-160H620v160ZM180-180h160v-160H180v160Zm440 0h160v-160H620v160Z\"/>\n",
              "  </svg>\n",
              "    </button>\n",
              "\n",
              "  <style>\n",
              "    .colab-df-container {\n",
              "      display:flex;\n",
              "      gap: 12px;\n",
              "    }\n",
              "\n",
              "    .colab-df-convert {\n",
              "      background-color: #E8F0FE;\n",
              "      border: none;\n",
              "      border-radius: 50%;\n",
              "      cursor: pointer;\n",
              "      display: none;\n",
              "      fill: #1967D2;\n",
              "      height: 32px;\n",
              "      padding: 0 0 0 0;\n",
              "      width: 32px;\n",
              "    }\n",
              "\n",
              "    .colab-df-convert:hover {\n",
              "      background-color: #E2EBFA;\n",
              "      box-shadow: 0px 1px 2px rgba(60, 64, 67, 0.3), 0px 1px 3px 1px rgba(60, 64, 67, 0.15);\n",
              "      fill: #174EA6;\n",
              "    }\n",
              "\n",
              "    .colab-df-buttons div {\n",
              "      margin-bottom: 4px;\n",
              "    }\n",
              "\n",
              "    [theme=dark] .colab-df-convert {\n",
              "      background-color: #3B4455;\n",
              "      fill: #D2E3FC;\n",
              "    }\n",
              "\n",
              "    [theme=dark] .colab-df-convert:hover {\n",
              "      background-color: #434B5C;\n",
              "      box-shadow: 0px 1px 3px 1px rgba(0, 0, 0, 0.15);\n",
              "      filter: drop-shadow(0px 1px 2px rgba(0, 0, 0, 0.3));\n",
              "      fill: #FFFFFF;\n",
              "    }\n",
              "  </style>\n",
              "\n",
              "    <script>\n",
              "      const buttonEl =\n",
              "        document.querySelector('#df-1b3a126c-b5c0-415d-908b-08df377f61ef button.colab-df-convert');\n",
              "      buttonEl.style.display =\n",
              "        google.colab.kernel.accessAllowed ? 'block' : 'none';\n",
              "\n",
              "      async function convertToInteractive(key) {\n",
              "        const element = document.querySelector('#df-1b3a126c-b5c0-415d-908b-08df377f61ef');\n",
              "        const dataTable =\n",
              "          await google.colab.kernel.invokeFunction('convertToInteractive',\n",
              "                                                    [key], {});\n",
              "        if (!dataTable) return;\n",
              "\n",
              "        const docLinkHtml = 'Like what you see? Visit the ' +\n",
              "          '<a target=\"_blank\" href=https://colab.research.google.com/notebooks/data_table.ipynb>data table notebook</a>'\n",
              "          + ' to learn more about interactive tables.';\n",
              "        element.innerHTML = '';\n",
              "        dataTable['output_type'] = 'display_data';\n",
              "        await google.colab.output.renderOutput(dataTable, element);\n",
              "        const docLink = document.createElement('div');\n",
              "        docLink.innerHTML = docLinkHtml;\n",
              "        element.appendChild(docLink);\n",
              "      }\n",
              "    </script>\n",
              "  </div>\n",
              "\n",
              "\n",
              "    <div id=\"df-7cfbe511-6528-48d2-acf1-5ca69df77ed6\">\n",
              "      <button class=\"colab-df-quickchart\" onclick=\"quickchart('df-7cfbe511-6528-48d2-acf1-5ca69df77ed6')\"\n",
              "                title=\"Suggest charts\"\n",
              "                style=\"display:none;\">\n",
              "\n",
              "<svg xmlns=\"http://www.w3.org/2000/svg\" height=\"24px\"viewBox=\"0 0 24 24\"\n",
              "     width=\"24px\">\n",
              "    <g>\n",
              "        <path d=\"M19 3H5c-1.1 0-2 .9-2 2v14c0 1.1.9 2 2 2h14c1.1 0 2-.9 2-2V5c0-1.1-.9-2-2-2zM9 17H7v-7h2v7zm4 0h-2V7h2v10zm4 0h-2v-4h2v4z\"/>\n",
              "    </g>\n",
              "</svg>\n",
              "      </button>\n",
              "\n",
              "<style>\n",
              "  .colab-df-quickchart {\n",
              "      --bg-color: #E8F0FE;\n",
              "      --fill-color: #1967D2;\n",
              "      --hover-bg-color: #E2EBFA;\n",
              "      --hover-fill-color: #174EA6;\n",
              "      --disabled-fill-color: #AAA;\n",
              "      --disabled-bg-color: #DDD;\n",
              "  }\n",
              "\n",
              "  [theme=dark] .colab-df-quickchart {\n",
              "      --bg-color: #3B4455;\n",
              "      --fill-color: #D2E3FC;\n",
              "      --hover-bg-color: #434B5C;\n",
              "      --hover-fill-color: #FFFFFF;\n",
              "      --disabled-bg-color: #3B4455;\n",
              "      --disabled-fill-color: #666;\n",
              "  }\n",
              "\n",
              "  .colab-df-quickchart {\n",
              "    background-color: var(--bg-color);\n",
              "    border: none;\n",
              "    border-radius: 50%;\n",
              "    cursor: pointer;\n",
              "    display: none;\n",
              "    fill: var(--fill-color);\n",
              "    height: 32px;\n",
              "    padding: 0;\n",
              "    width: 32px;\n",
              "  }\n",
              "\n",
              "  .colab-df-quickchart:hover {\n",
              "    background-color: var(--hover-bg-color);\n",
              "    box-shadow: 0 1px 2px rgba(60, 64, 67, 0.3), 0 1px 3px 1px rgba(60, 64, 67, 0.15);\n",
              "    fill: var(--button-hover-fill-color);\n",
              "  }\n",
              "\n",
              "  .colab-df-quickchart-complete:disabled,\n",
              "  .colab-df-quickchart-complete:disabled:hover {\n",
              "    background-color: var(--disabled-bg-color);\n",
              "    fill: var(--disabled-fill-color);\n",
              "    box-shadow: none;\n",
              "  }\n",
              "\n",
              "  .colab-df-spinner {\n",
              "    border: 2px solid var(--fill-color);\n",
              "    border-color: transparent;\n",
              "    border-bottom-color: var(--fill-color);\n",
              "    animation:\n",
              "      spin 1s steps(1) infinite;\n",
              "  }\n",
              "\n",
              "  @keyframes spin {\n",
              "    0% {\n",
              "      border-color: transparent;\n",
              "      border-bottom-color: var(--fill-color);\n",
              "      border-left-color: var(--fill-color);\n",
              "    }\n",
              "    20% {\n",
              "      border-color: transparent;\n",
              "      border-left-color: var(--fill-color);\n",
              "      border-top-color: var(--fill-color);\n",
              "    }\n",
              "    30% {\n",
              "      border-color: transparent;\n",
              "      border-left-color: var(--fill-color);\n",
              "      border-top-color: var(--fill-color);\n",
              "      border-right-color: var(--fill-color);\n",
              "    }\n",
              "    40% {\n",
              "      border-color: transparent;\n",
              "      border-right-color: var(--fill-color);\n",
              "      border-top-color: var(--fill-color);\n",
              "    }\n",
              "    60% {\n",
              "      border-color: transparent;\n",
              "      border-right-color: var(--fill-color);\n",
              "    }\n",
              "    80% {\n",
              "      border-color: transparent;\n",
              "      border-right-color: var(--fill-color);\n",
              "      border-bottom-color: var(--fill-color);\n",
              "    }\n",
              "    90% {\n",
              "      border-color: transparent;\n",
              "      border-bottom-color: var(--fill-color);\n",
              "    }\n",
              "  }\n",
              "</style>\n",
              "\n",
              "      <script>\n",
              "        async function quickchart(key) {\n",
              "          const quickchartButtonEl =\n",
              "            document.querySelector('#' + key + ' button');\n",
              "          quickchartButtonEl.disabled = true;  // To prevent multiple clicks.\n",
              "          quickchartButtonEl.classList.add('colab-df-spinner');\n",
              "          try {\n",
              "            const charts = await google.colab.kernel.invokeFunction(\n",
              "                'suggestCharts', [key], {});\n",
              "          } catch (error) {\n",
              "            console.error('Error during call to suggestCharts:', error);\n",
              "          }\n",
              "          quickchartButtonEl.classList.remove('colab-df-spinner');\n",
              "          quickchartButtonEl.classList.add('colab-df-quickchart-complete');\n",
              "        }\n",
              "        (() => {\n",
              "          let quickchartButtonEl =\n",
              "            document.querySelector('#df-7cfbe511-6528-48d2-acf1-5ca69df77ed6 button');\n",
              "          quickchartButtonEl.style.display =\n",
              "            google.colab.kernel.accessAllowed ? 'block' : 'none';\n",
              "        })();\n",
              "      </script>\n",
              "    </div>\n",
              "\n",
              "    </div>\n",
              "  </div>\n"
            ],
            "application/vnd.google.colaboratory.intrinsic+json": {
              "type": "dataframe",
              "summary": "{\n  \"name\": \"var_jlss_titles_and_abstracts_df\",\n  \"rows\": 4,\n  \"fields\": [\n    {\n      \"column\": \"Title\",\n      \"properties\": {\n        \"dtype\": \"string\",\n        \"num_unique_values\": 4,\n        \"samples\": [\n          86,\n          \"2\",\n          \"87\"\n        ],\n        \"semantic_type\": \"\",\n        \"description\": \"\"\n      }\n    },\n    {\n      \"column\": \"Article URL\",\n      \"properties\": {\n        \"dtype\": \"string\",\n        \"num_unique_values\": 3,\n        \"samples\": [\n          \"87\",\n          \"https://journals.unza.zm/index.php/JLSS/article/view/1295/922\",\n          \"1\"\n        ],\n        \"semantic_type\": \"\",\n        \"description\": \"\"\n      }\n    },\n    {\n      \"column\": \"PDF URL\",\n      \"properties\": {\n        \"dtype\": \"string\",\n        \"num_unique_values\": 3,\n        \"samples\": [\n          \"87\",\n          \"https://journals.unza.zm/index.php/JLSS/article/download/1295/922\",\n          \"1\"\n        ],\n        \"semantic_type\": \"\",\n        \"description\": \"\"\n      }\n    },\n    {\n      \"column\": \"Abstract\",\n      \"properties\": {\n        \"dtype\": \"string\",\n        \"num_unique_values\": 4,\n        \"samples\": [\n          72,\n          \"16\",\n          \"87\"\n        ],\n        \"semantic_type\": \"\",\n        \"description\": \"\"\n      }\n    }\n  ]\n}"
            }
          },
          "metadata": {},
          "execution_count": 43
        }
      ]
    },
    {
      "cell_type": "markdown",
      "source": [
        "### 4 .shape() :"
      ],
      "metadata": {
        "id": "kR_BUz5ZhSnp"
      }
    },
    {
      "cell_type": "code",
      "source": [
        "var_jlss_titles_and_abstracts_df.shape\n"
      ],
      "metadata": {
        "colab": {
          "base_uri": "https://localhost:8080/"
        },
        "id": "WqcsQJEkdOA-",
        "outputId": "9975b635-899a-4505-9653-75d5011b47b3"
      },
      "execution_count": 45,
      "outputs": [
        {
          "output_type": "execute_result",
          "data": {
            "text/plain": [
              "(87, 4)"
            ]
          },
          "metadata": {},
          "execution_count": 45
        }
      ]
    },
    {
      "cell_type": "code",
      "source": [
        "import matplotlib.pyplot as plt\n",
        "import seaborn as sns\n",
        "\n",
        "print(\"Your 4 column names are:\")\n",
        "print(var_jlss_titles_and_abstracts_df.columns.tolist())\n",
        "\n",
        "print(df['Title'])\n",
        "\n",
        "df['Title'].hist()\n",
        "plt.show()"
      ],
      "metadata": {
        "colab": {
          "base_uri": "https://localhost:8080/",
          "height": 513
        },
        "id": "627vab9-deN2",
        "outputId": "abdc96ad-ba58-49cb-ca30-3155629ad09b"
      },
      "execution_count": 46,
      "outputs": [
        {
          "output_type": "stream",
          "name": "stdout",
          "text": [
            "Your 4 column names are:\n",
            "['Title', 'Article URL', 'PDF URL', 'Abstract']\n",
            "0                             View of Editorial Comment\n",
            "1     View of Some Novels are Novels While Others ar...\n",
            "2     View of Contradictions of a Society in Transit...\n",
            "3     View of Unravelling the Complexity of Cinyanja...\n",
            "4     View of The Naming of Zambia's Waterfalls: A T...\n",
            "                            ...                        \n",
            "82    View of Risk Factors and Child Sexual Abuse am...\n",
            "83    View of The Role of the Zambian Media in Publi...\n",
            "84    View of Teacher Educators’ Perceptions of Envi...\n",
            "85    View of Relevance of Education for Sustainable...\n",
            "86    View of Proposed Synergies between Indigenous ...\n",
            "Name: Title, Length: 87, dtype: object\n"
          ]
        },
        {
          "output_type": "display_data",
          "data": {
            "text/plain": [
              "<Figure size 640x480 with 1 Axes>"
            ],
            "image/png": "[encoded data removed]"
          },
          "metadata": {}
        }
      ]
    },
    {
      "cell_type": "code",
      "source": [
        "df = pd.read_csv('/content/misc-unza25-csc4792-project_team15/jlss_titles_and_abstracts.csv')\n",
        "df.head()\n",
        "df.tail()\n",
        "df.info()\n",
        "df.iloc[0]"
      ],
      "metadata": {
        "colab": {
          "base_uri": "https://localhost:8080/",
          "height": 400
        },
        "id": "zGj-gaIhlASh",
        "outputId": "423c3ebb-bb62-4c41-b744-ef2f6b2399f3"
      },
      "execution_count": 47,
      "outputs": [
        {
          "output_type": "stream",
          "name": "stdout",
          "text": [
            "<class 'pandas.core.frame.DataFrame'>\n",
            "RangeIndex: 87 entries, 0 to 86\n",
            "Data columns (total 4 columns):\n",
            " #   Column       Non-Null Count  Dtype \n",
            "---  ------       --------------  ----- \n",
            " 0   Title        87 non-null     object\n",
            " 1   Article URL  87 non-null     object\n",
            " 2   PDF URL      87 non-null     object\n",
            " 3   Abstract     87 non-null     object\n",
            "dtypes: object(4)\n",
            "memory usage: 2.8+ KB\n"
          ]
        },
        {
          "output_type": "execute_result",
          "data": {
            "text/plain": [
              "Title                                  View of Editorial Comment\n",
              "Article URL    https://journals.unza.zm/index.php/JLSS/articl...\n",
              "PDF URL        https://journals.unza.zm/index.php/JLSS/articl...\n",
              "Abstract                                      Abstract not found\n",
              "Name: 0, dtype: object"
            ],
            "text/html": [
              "<div>\n",
              "<style scoped>\n",
              "    .dataframe tbody tr th:only-of-type {\n",
              "        vertical-align: middle;\n",
              "    }\n",
              "\n",
              "    .dataframe tbody tr th {\n",
              "        vertical-align: top;\n",
              "    }\n",
              "\n",
              "    .dataframe thead th {\n",
              "        text-align: right;\n",
              "    }\n",
              "</style>\n",
              "<table border=\"1\" class=\"dataframe\">\n",
              "  <thead>\n",
              "    <tr style=\"text-align: right;\">\n",
              "      <th></th>\n",
              "      <th>0</th>\n",
              "    </tr>\n",
              "  </thead>\n",
              "  <tbody>\n",
              "    <tr>\n",
              "      <th>Title</th>\n",
              "      <td>View of Editorial Comment</td>\n",
              "    </tr>\n",
              "    <tr>\n",
              "      <th>Article URL</th>\n",
              "      <td>https://journals.unza.zm/index.php/JLSS/articl...</td>\n",
              "    </tr>\n",
              "    <tr>\n",
              "      <th>PDF URL</th>\n",
              "      <td>https://journals.unza.zm/index.php/JLSS/articl...</td>\n",
              "    </tr>\n",
              "    <tr>\n",
              "      <th>Abstract</th>\n",
              "      <td>Abstract not found</td>\n",
              "    </tr>\n",
              "  </tbody>\n",
              "</table>\n",
              "</div><br><label><b>dtype:</b> object</label>"
            ]
          },
          "metadata": {},
          "execution_count": 47
        }
      ]
    },
    {
      "cell_type": "markdown",
      "source": [
        "## 2.4 Initial Findings Summary"
      ],
      "metadata": {
        "id": "qib2hi3jno_d"
      }
    },
    {
      "cell_type": "markdown",
      "source": [
        "### 1. Dataset Overview\n",
        "\n",
        "#### Basic Dataset Information\n",
        "- **Dataset Name**: JLSS Titles and Abstracts\n",
        "- **Total Records**: 87 entries (indexed from 0 to 86)\n",
        "- **Total Columns**: 4 columns\n",
        "- **Data Completeness**: All columns have 87 non-null entries\n",
        "\n",
        "#### Column Structure\n",
        "The dataset contains the following 4 columns, all of object (string) data type:\n",
        "1. **Title** - Research paper titles\n",
        "2. **Article URL** - Web links to the full articles\n",
        "3. **PDF URL** - Direct links to PDF versions\n",
        "4. **Abstract** - Research paper abstracts/summaries\n",
        "\n",
        "### 2. Data Quality Assessment\n",
        "\n",
        "#### Strengths Identified\n",
        "<!-- - **No Missing Data**: All 87 entries have complete information across all 4 columns -->\n",
        "- **Consistent Data Types**: All columns appropriately stored as object/string type\n",
        "- **Structured Format**: Clean CSV format with proper column headers\n",
        "- **Manageable Size**: Small enough dataset (87 records)\n",
        "\n",
        "#### Data Characteristics\n",
        "- **Data Type Distribution**: 100% text/categorical data (no numerical columns)\n",
        "<!-- - **Completeness Rate**: 100% - no null values detected -->\n",
        "- **Format Consistency**: Standardized structure with URLs following expected patterns\n",
        "\n",
        "### 3. Content Analysis Observations\n",
        "\n",
        "#### Dataset Scope\n",
        "- **Domain Focus**: Academic research papers from Journal of Language and Social Sciences\n",
        "- **Content Type**: Scholarly articles with academic abstracts\n",
        "- **Accessibility**: Dual access provided (web articles + PDF downloads)\n",
        "- **Research Coverage**: Spans various topics within language and social sciences\n",
        "\n",
        "#### Text Data Characteristics\n",
        "- **Title Field**: Contains academic paper titles (likely varying lengths)\n",
        "- **Abstract Field**: Contains research summaries/abstracts (expected to be longer text)\n",
        "- **URL Fields**: Provide both web-based and PDF access to full content\n",
        "\n",
        "\n",
        "\n",
        "#### Key Discoveries\n",
        "1. **Clean Dataset**: The dataset is clean with no missing values, making it ideal for text analysis and natural language processing tasks\n",
        "\n",
        "2. **Dual Accessibility**: Each research paper has both web and PDF access, providing flexibility for different analysis approaches\n",
        "\n",
        "3. **Focused Academic Content**: All entries are from a single journal (JLSS), ensuring consistency in academic standards and subject matter focus\n",
        "\n",
        "4. **Manageable Scale**: With 87 entries\n",
        "\n",
        "\n",
        "### 4. Technical Notes\n",
        "\n",
        "#### Data Loading Success\n",
        "- Successfully mounted Google Drive and downloaded data\n",
        "- Proper CSV parsing with pandas\n",
        "- All exploratory commands (.head(), .info(), .describe(), .shape) executed successfully\n",
        "\n",
        "#### Visualization Readiness\n",
        "- Dataset structure supports text-based visualizations\n",
        "- Ready for histogram analysis of text lengths\n",
        "- Suitable for categorical analysis and frequency distributions"
      ],
      "metadata": {
        "id": "xwFbZlvhnxSX"
      }
    },
    {
      "cell_type": "markdown",
      "source": [],
      "metadata": {
        "id": "cHb4fE6krRrX"
      }
    }
  ]
}